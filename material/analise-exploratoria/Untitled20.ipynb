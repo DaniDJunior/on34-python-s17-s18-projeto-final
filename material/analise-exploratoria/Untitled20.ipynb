{
  "nbformat": 4,
  "nbformat_minor": 0,
  "metadata": {
    "colab": {
      "provenance": [],
      "authorship_tag": "ABX9TyP3UnCjBC2QadDkYwUDnSLu",
      "include_colab_link": true
    },
    "kernelspec": {
      "name": "python3",
      "display_name": "Python 3"
    },
    "language_info": {
      "name": "python"
    }
  },
  "cells": [
    {
      "cell_type": "markdown",
      "metadata": {
        "id": "view-in-github",
        "colab_type": "text"
      },
      "source": [
        "<a href=\"https://colab.research.google.com/github/DaniDJunior/on34-python-s17-s18-projeto-final/blob/main/material/analise-exploratoria/Untitled20.ipynb\" target=\"_parent\"><img src=\"https://colab.research.google.com/assets/colab-badge.svg\" alt=\"Open In Colab\"/></a>"
      ]
    },
    {
      "cell_type": "code",
      "execution_count": null,
      "metadata": {
        "id": "ynrOeUIgyn5x"
      },
      "outputs": [],
      "source": []
    },
    {
      "cell_type": "markdown",
      "source": [
        "cxvczxvxczxcv  xczvzxcv x"
      ],
      "metadata": {
        "id": "q5s6F5Cqyokg"
      }
    }
  ]
}